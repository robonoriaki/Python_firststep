{
 "cells": [
  {
   "cell_type": "code",
   "execution_count": 1,
   "metadata": {},
   "outputs": [
    {
     "name": "stdout",
     "output_type": "stream",
     "text": [
      "NoriakiKanai\n",
      "NoriakiKanai\n",
      "Noriaki\n",
      "NoriakiKanai\n"
     ]
    }
   ],
   "source": [
    "first_name = 'Noriaki'\n",
    "last_name = 'Kanai'\n",
    "print(first_name + last_name)\n",
    "\n",
    "name = first_name + last_name\n",
    "print(name)\n",
    "\n",
    "name2 = 'Noriaki'\n",
    "print(name2)\n",
    "\n",
    "name2 += last_name\n",
    "print(name2)"
   ]
  },
  {
   "cell_type": "code",
   "execution_count": 2,
   "metadata": {},
   "outputs": [
    {
     "name": "stdout",
     "output_type": "stream",
     "text": [
      "aaaaab\n"
     ]
    }
   ],
   "source": [
    "moji = 'a' * 5\n",
    "moji2 = 'b'\n",
    "print(moji + moji2)"
   ]
  }
 ],
 "metadata": {
  "kernelspec": {
   "display_name": "Python 3",
   "language": "python",
   "name": "python3"
  },
  "language_info": {
   "codemirror_mode": {
    "name": "ipython",
    "version": 3
   },
   "file_extension": ".py",
   "mimetype": "text/x-python",
   "name": "python",
   "nbconvert_exporter": "python",
   "pygments_lexer": "ipython3",
   "version": "3.6.5"
  }
 },
 "nbformat": 4,
 "nbformat_minor": 2
}
