{
 "cells": [
  {
   "cell_type": "code",
   "execution_count": 1,
   "metadata": {},
   "outputs": [
    {
     "name": "stdout",
     "output_type": "stream",
     "text": [
      "<class 'str'>\n",
      "<class 'str'>\n",
      "<class 'str'>\n"
     ]
    }
   ],
   "source": [
    "string = 'abc'\n",
    "print(type(string))\n",
    "\n",
    "single = 'single quo'\n",
    "print(type(single))\n",
    "\n",
    "double = \"double quo\"\n",
    "print(type(double))"
   ]
  },
  {
   "cell_type": "code",
   "execution_count": 2,
   "metadata": {},
   "outputs": [
    {
     "name": "stdout",
     "output_type": "stream",
     "text": [
      "a'bd\n",
      "a\"bg\n"
     ]
    }
   ],
   "source": [
    "message1 = 'a\\'bd'\n",
    "message2 = 'a\\\"bg'\n",
    "print(message1)\n",
    "print(message2)"
   ]
  },
  {
   "cell_type": "code",
   "execution_count": 3,
   "metadata": {},
   "outputs": [
    {
     "name": "stdout",
     "output_type": "stream",
     "text": [
      "\\100\n"
     ]
    }
   ],
   "source": [
    "print('\\\\100')"
   ]
  },
  {
   "cell_type": "code",
   "execution_count": 4,
   "metadata": {},
   "outputs": [
    {
     "name": "stdout",
     "output_type": "stream",
     "text": [
      "Hello\n",
      "World\n"
     ]
    }
   ],
   "source": [
    "hello = 'Hello\\nWorld'\n",
    "print(hello)"
   ]
  },
  {
   "cell_type": "code",
   "execution_count": 5,
   "metadata": {},
   "outputs": [
    {
     "name": "stdout",
     "output_type": "stream",
     "text": [
      "Hello, Noriaki Kanai. Welcome to this world.\n"
     ]
    }
   ],
   "source": [
    "name = 'Noriaki Kanai'\n",
    "print('Hello, {}. Welcome to this world.'.format(name))"
   ]
  },
  {
   "cell_type": "code",
   "execution_count": 6,
   "metadata": {},
   "outputs": [
    {
     "name": "stdout",
     "output_type": "stream",
     "text": [
      "Hello Noriaki, welcome to our world.\n"
     ]
    }
   ],
   "source": [
    "name = 'Noriaki'\n",
    "world = 'our world'\n",
    "\n",
    "print('Hello {0}, welcome to {1}.'.format(name,world))"
   ]
  },
  {
   "cell_type": "code",
   "execution_count": 7,
   "metadata": {},
   "outputs": [
    {
     "name": "stdout",
     "output_type": "stream",
     "text": [
      "N\n"
     ]
    }
   ],
   "source": [
    "name = 'Noriaki'\n",
    "print(name[0])"
   ]
  },
  {
   "cell_type": "code",
   "execution_count": 8,
   "metadata": {},
   "outputs": [
    {
     "name": "stdout",
     "output_type": "stream",
     "text": [
      "Hello NK, Welcome to our world.\n"
     ]
    }
   ],
   "source": [
    "first_name = 'Noriaki'\n",
    "last_name = 'Kanai'\n",
    "\n",
    "print('Hello {0}{1}, Welcome to our world.'.format(first_name[0],last_name[0]))"
   ]
  }
 ],
 "metadata": {
  "kernelspec": {
   "display_name": "Python 3",
   "language": "python",
   "name": "python3"
  },
  "language_info": {
   "codemirror_mode": {
    "name": "ipython",
    "version": 3
   },
   "file_extension": ".py",
   "mimetype": "text/x-python",
   "name": "python",
   "nbconvert_exporter": "python",
   "pygments_lexer": "ipython3",
   "version": "3.6.5"
  }
 },
 "nbformat": 4,
 "nbformat_minor": 2
}
