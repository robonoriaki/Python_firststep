{
 "cells": [
  {
   "cell_type": "code",
   "execution_count": 1,
   "metadata": {},
   "outputs": [
    {
     "name": "stdout",
     "output_type": "stream",
     "text": [
      "[2, 4, 6, 8, 10]\n",
      "<class 'list'>\n"
     ]
    }
   ],
   "source": [
    "odds = [1,3,5,7,9]\n",
    "evens = [2,4,6,8,10]\n",
    "print(evens)\n",
    "print(type(evens))"
   ]
  },
  {
   "cell_type": "code",
   "execution_count": 2,
   "metadata": {},
   "outputs": [
    {
     "name": "stdout",
     "output_type": "stream",
     "text": [
      "[1, 3, 5, 7, 9, 'Jack']\n"
     ]
    }
   ],
   "source": [
    "odds.append('Jack')\n",
    "evens.append('King')\n",
    "print(odds)"
   ]
  },
  {
   "cell_type": "code",
   "execution_count": 3,
   "metadata": {},
   "outputs": [
    {
     "name": "stdout",
     "output_type": "stream",
     "text": [
      "[1, 3, 5, 7, 9, 'Jack', [11, 13]]\n"
     ]
    }
   ],
   "source": [
    "odds.append([11,13])\n",
    "print(odds)"
   ]
  },
  {
   "cell_type": "code",
   "execution_count": 4,
   "metadata": {},
   "outputs": [
    {
     "name": "stdout",
     "output_type": "stream",
     "text": [
      "7\n",
      "King\n",
      "11\n"
     ]
    }
   ],
   "source": [
    "print(odds[3])\n",
    "print(evens[5])\n",
    "print(odds[6][0])"
   ]
  },
  {
   "cell_type": "code",
   "execution_count": 5,
   "metadata": {},
   "outputs": [
    {
     "name": "stdout",
     "output_type": "stream",
     "text": [
      "[7, 9]\n",
      "[5, 7, 9, 'Jack', [11, 13]]\n",
      "[1, 3, 5]\n"
     ]
    }
   ],
   "source": [
    "print(odds[3:5])\n",
    "print(odds[2:])\n",
    "print(odds[:3])"
   ]
  },
  {
   "cell_type": "code",
   "execution_count": 6,
   "metadata": {},
   "outputs": [
    {
     "name": "stdout",
     "output_type": "stream",
     "text": [
      "[1, 7]\n"
     ]
    }
   ],
   "source": [
    "print(odds[0:5:3])"
   ]
  },
  {
   "cell_type": "code",
   "execution_count": 7,
   "metadata": {},
   "outputs": [
    {
     "name": "stdout",
     "output_type": "stream",
     "text": [
      "[1, 3, 5, 7, 9, 'Jack', [11, 13]]\n",
      "[7, 9, 'Jack']\n",
      "[11, 13]\n"
     ]
    }
   ],
   "source": [
    "print(odds)\n",
    "print(odds[-4:-1])\n",
    "print(odds[-1])"
   ]
  },
  {
   "cell_type": "code",
   "execution_count": 8,
   "metadata": {},
   "outputs": [
    {
     "name": "stdout",
     "output_type": "stream",
     "text": [
      "3\n"
     ]
    }
   ],
   "source": [
    "print(odds.index(7))"
   ]
  },
  {
   "cell_type": "code",
   "execution_count": 9,
   "metadata": {},
   "outputs": [
    {
     "name": "stdout",
     "output_type": "stream",
     "text": [
      "0\n"
     ]
    }
   ],
   "source": [
    "#What is happen when list valuable has two \"1\"?\n",
    "newlist = [1,1,2,3,4,5]\n",
    "print(newlist.index(1))"
   ]
  },
  {
   "cell_type": "code",
   "execution_count": 10,
   "metadata": {},
   "outputs": [
    {
     "name": "stdout",
     "output_type": "stream",
     "text": [
      "True\n",
      "False\n"
     ]
    }
   ],
   "source": [
    "print(3 in odds)\n",
    "print(2 in odds)"
   ]
  },
  {
   "cell_type": "code",
   "execution_count": 11,
   "metadata": {},
   "outputs": [
    {
     "name": "stdout",
     "output_type": "stream",
     "text": [
      "1\n",
      "2\n"
     ]
    }
   ],
   "source": [
    "print(odds.count(1))\n",
    "print(newlist.count(1))"
   ]
  },
  {
   "cell_type": "code",
   "execution_count": 12,
   "metadata": {},
   "outputs": [
    {
     "name": "stdout",
     "output_type": "stream",
     "text": [
      "6\n"
     ]
    }
   ],
   "source": [
    "print(len(newlist))"
   ]
  },
  {
   "cell_type": "code",
   "execution_count": 13,
   "metadata": {},
   "outputs": [
    {
     "name": "stdout",
     "output_type": "stream",
     "text": [
      "[1, 3, 5, 7, 9, 'Jack', [11, 13], 3]\n",
      "[1, 3, 5, 7, 9, 'Jack', [11, 13], 15]\n"
     ]
    }
   ],
   "source": [
    "odds.append(3)\n",
    "print(odds)\n",
    "\n",
    "odds[7] = 15\n",
    "print(odds)"
   ]
  },
  {
   "cell_type": "code",
   "execution_count": 14,
   "metadata": {},
   "outputs": [
    {
     "name": "stdout",
     "output_type": "stream",
     "text": [
      "3\n",
      "[3, 5, 7, 9, 'Jack', [11, 13], 15]\n",
      "5\n"
     ]
    }
   ],
   "source": [
    "print(odds[1])\n",
    "\n",
    "del odds[0]\n",
    "\n",
    "print(odds)\n",
    "print(odds[1])"
   ]
  },
  {
   "cell_type": "code",
   "execution_count": 15,
   "metadata": {},
   "outputs": [
    {
     "name": "stdout",
     "output_type": "stream",
     "text": [
      "[3, 5, 7, 'Jack', [11, 13], 15]\n"
     ]
    }
   ],
   "source": [
    "odds.remove(9)\n",
    "print(odds)"
   ]
  },
  {
   "cell_type": "code",
   "execution_count": 16,
   "metadata": {},
   "outputs": [
    {
     "name": "stdout",
     "output_type": "stream",
     "text": [
      "True\n",
      "False\n",
      "True\n",
      "True\n",
      "False\n"
     ]
    }
   ],
   "source": [
    "print([1,2,3] == [1,2,3])\n",
    "print([1,2,3] > [3,2,1])\n",
    "print([4,5,6] > [3,2,1])\n",
    "print([4,5,6] > [4,4,6])\n",
    "print([4,5,6] > [5,4,6])"
   ]
  }
 ],
 "metadata": {
  "kernelspec": {
   "display_name": "Python 3",
   "language": "python",
   "name": "python3"
  },
  "language_info": {
   "codemirror_mode": {
    "name": "ipython",
    "version": 3
   },
   "file_extension": ".py",
   "mimetype": "text/x-python",
   "name": "python",
   "nbconvert_exporter": "python",
   "pygments_lexer": "ipython3",
   "version": "3.6.5"
  }
 },
 "nbformat": 4,
 "nbformat_minor": 2
}
