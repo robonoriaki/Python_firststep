{
 "cells": [
  {
   "cell_type": "code",
   "execution_count": 2,
   "metadata": {},
   "outputs": [
    {
     "name": "stdout",
     "output_type": "stream",
     "text": [
      "{'Japan': 'Tokyo', 'China': 'Beijing', 'America': 'Washington'}\n"
     ]
    }
   ],
   "source": [
    "#dictionary type\n",
    "capital = {'Japan':'Tokyo', 'China':'Beijing','America':'Washington'}\n",
    "print(capital)"
   ]
  },
  {
   "cell_type": "code",
   "execution_count": 3,
   "metadata": {},
   "outputs": [
    {
     "name": "stdout",
     "output_type": "stream",
     "text": [
      "{'Japan': 'Tokyo', 'China': 'Beijing', 'America': 'Washington'}\n"
     ]
    }
   ],
   "source": [
    "capital2 = capital.copy()\n",
    "print(capital2)"
   ]
  },
  {
   "cell_type": "code",
   "execution_count": 4,
   "metadata": {},
   "outputs": [
    {
     "name": "stdout",
     "output_type": "stream",
     "text": [
      "{'Japan': None, 'China': None, 'USA': None}\n"
     ]
    }
   ],
   "source": [
    "country = ['Japan','China','USA']\n",
    "unknown_capital = dict.fromkeys(country)\n",
    "print(unknown_capital)"
   ]
  },
  {
   "cell_type": "code",
   "execution_count": 5,
   "metadata": {},
   "outputs": [
    {
     "name": "stdout",
     "output_type": "stream",
     "text": [
      "Tokyo\n",
      "Washington\n",
      "None\n"
     ]
    }
   ],
   "source": [
    "print(capital['Japan'])\n",
    "print(capital['America'])\n",
    "print(unknown_capital['USA'])"
   ]
  },
  {
   "cell_type": "code",
   "execution_count": null,
   "metadata": {},
   "outputs": [],
   "source": []
  }
 ],
 "metadata": {
  "kernelspec": {
   "display_name": "Python 3",
   "language": "python",
   "name": "python3"
  },
  "language_info": {
   "codemirror_mode": {
    "name": "ipython",
    "version": 3
   },
   "file_extension": ".py",
   "mimetype": "text/x-python",
   "name": "python",
   "nbconvert_exporter": "python",
   "pygments_lexer": "ipython3",
   "version": "3.6.5"
  }
 },
 "nbformat": 4,
 "nbformat_minor": 2
}
