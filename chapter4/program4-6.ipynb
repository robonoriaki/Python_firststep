{
 "cells": [
  {
   "cell_type": "code",
   "execution_count": 1,
   "metadata": {},
   "outputs": [
    {
     "name": "stdout",
     "output_type": "stream",
     "text": [
      "{'Japan': 'Tokyo', 'China': 'Beijing', 'America': 'Washington'}\n"
     ]
    }
   ],
   "source": [
    "#dictionary type\n",
    "capital = {'Japan':'Tokyo', 'China':'Beijing','America':'Washington'}\n",
    "print(capital)"
   ]
  },
  {
   "cell_type": "code",
   "execution_count": 2,
   "metadata": {},
   "outputs": [
    {
     "name": "stdout",
     "output_type": "stream",
     "text": [
      "{'Japan': 'Tokyo', 'China': 'Beijing', 'America': 'Washington'}\n"
     ]
    }
   ],
   "source": [
    "capital2 = capital.copy()\n",
    "print(capital2)"
   ]
  },
  {
   "cell_type": "code",
   "execution_count": 3,
   "metadata": {},
   "outputs": [
    {
     "name": "stdout",
     "output_type": "stream",
     "text": [
      "{'Japan': None, 'China': None, 'USA': None}\n"
     ]
    }
   ],
   "source": [
    "country = ['Japan','China','USA']\n",
    "unknown_capital = dict.fromkeys(country)\n",
    "print(unknown_capital)"
   ]
  },
  {
   "cell_type": "code",
   "execution_count": 4,
   "metadata": {},
   "outputs": [
    {
     "name": "stdout",
     "output_type": "stream",
     "text": [
      "Tokyo\n",
      "Washington\n",
      "None\n"
     ]
    }
   ],
   "source": [
    "print(capital['Japan'])\n",
    "print(capital['America'])\n",
    "print(unknown_capital['USA'])"
   ]
  },
  {
   "cell_type": "code",
   "execution_count": 5,
   "metadata": {},
   "outputs": [
    {
     "name": "stdout",
     "output_type": "stream",
     "text": [
      "Tokyo\n",
      "None\n"
     ]
    }
   ],
   "source": [
    "Japan_capital = capital.get('Japan')\n",
    "print(Japan_capital)\n",
    "\n",
    "Japan_capital = capital.get('Canada')\n",
    "print(Japan_capital)"
   ]
  },
  {
   "cell_type": "code",
   "execution_count": 6,
   "metadata": {},
   "outputs": [
    {
     "name": "stdout",
     "output_type": "stream",
     "text": [
      "capital\n",
      "{'Japan': 'Tokyo', 'China': 'Beijing', 'America': 'Washington'}\n",
      "keys\n",
      "dict_keys(['Japan', 'China', 'America'])\n",
      "values\n",
      "dict_values(['Tokyo', 'Beijing', 'Washington'])\n",
      "items\n",
      "dict_items([('Japan', 'Tokyo'), ('China', 'Beijing'), ('America', 'Washington')])\n"
     ]
    }
   ],
   "source": [
    "print(\"capital\")\n",
    "print(capital)\n",
    "\n",
    "print(\"keys\")\n",
    "print(capital.keys())\n",
    "\n",
    "print(\"values\")\n",
    "print(capital.values())\n",
    "\n",
    "print(\"items\")\n",
    "print(capital.items())"
   ]
  },
  {
   "cell_type": "code",
   "execution_count": 7,
   "metadata": {},
   "outputs": [
    {
     "name": "stdout",
     "output_type": "stream",
     "text": [
      "False\n"
     ]
    }
   ],
   "source": [
    "print('Tokyo' in capital)"
   ]
  },
  {
   "cell_type": "code",
   "execution_count": 8,
   "metadata": {},
   "outputs": [
    {
     "name": "stdout",
     "output_type": "stream",
     "text": [
      "3\n"
     ]
    }
   ],
   "source": [
    "print(len(capital))"
   ]
  },
  {
   "cell_type": "code",
   "execution_count": 9,
   "metadata": {},
   "outputs": [
    {
     "name": "stdout",
     "output_type": "stream",
     "text": [
      "{'Japan': 'TOKYO', 'China': 'Beijing', 'America': 'Washington'}\n"
     ]
    }
   ],
   "source": [
    "capital['Japan'] = 'TOKYO'\n",
    "print(capital)"
   ]
  },
  {
   "cell_type": "code",
   "execution_count": 10,
   "metadata": {},
   "outputs": [
    {
     "name": "stdout",
     "output_type": "stream",
     "text": [
      "{'Japan': 'TOKYO', 'China': 'Beijing', 'America': 'Washington', 'Italy': 'Rome'}\n"
     ]
    }
   ],
   "source": [
    "capital['Italy'] = 'Rome'\n",
    "print(capital)"
   ]
  },
  {
   "cell_type": "code",
   "execution_count": 11,
   "metadata": {},
   "outputs": [
    {
     "name": "stdout",
     "output_type": "stream",
     "text": [
      "{'China': 'Beijing', 'America': 'Washington', 'Italy': 'Rome'}\n"
     ]
    }
   ],
   "source": [
    "del capital['Japan']\n",
    "print(capital)"
   ]
  },
  {
   "cell_type": "code",
   "execution_count": 12,
   "metadata": {},
   "outputs": [
    {
     "name": "stdout",
     "output_type": "stream",
     "text": [
      "{'China': 'Beijing', 'Italy': 'Rome'}\n",
      "Washington\n"
     ]
    }
   ],
   "source": [
    "state = capital.pop('America')\n",
    "print(capital)\n",
    "print(state)"
   ]
  }
 ],
 "metadata": {
  "kernelspec": {
   "display_name": "Python 3",
   "language": "python",
   "name": "python3"
  },
  "language_info": {
   "codemirror_mode": {
    "name": "ipython",
    "version": 3
   },
   "file_extension": ".py",
   "mimetype": "text/x-python",
   "name": "python",
   "nbconvert_exporter": "python",
   "pygments_lexer": "ipython3",
   "version": "3.6.5"
  }
 },
 "nbformat": 4,
 "nbformat_minor": 2
}
