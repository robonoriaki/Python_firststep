{
 "cells": [
  {
   "cell_type": "code",
   "execution_count": 1,
   "metadata": {},
   "outputs": [
    {
     "name": "stdout",
     "output_type": "stream",
     "text": [
      "type of set\n",
      "{'saitama', 'yamanashi', 'kanagawa'}\n",
      "<class 'set'>\n"
     ]
    }
   ],
   "source": [
    "#type of set\n",
    "print(\"type of set\")\n",
    "\n",
    "border_tokyo = set(['yamanashi','saitama','kanagawa'])\n",
    "\n",
    "print(border_tokyo)\n",
    "print(type(border_tokyo))"
   ]
  },
  {
   "cell_type": "code",
   "execution_count": 2,
   "metadata": {},
   "outputs": [
    {
     "name": "stdout",
     "output_type": "stream",
     "text": [
      "frozenset({'yamanashi', 'aichi', 'kanagawa', 'nagano'})\n",
      "<class 'frozenset'>\n"
     ]
    }
   ],
   "source": [
    "border_shizuoka = frozenset(['kanagawa','yamanashi','aichi','nagano'])\n",
    "\n",
    "print(border_shizuoka)\n",
    "print(type(border_shizuoka))"
   ]
  },
  {
   "cell_type": "code",
   "execution_count": 3,
   "metadata": {},
   "outputs": [
    {
     "name": "stdout",
     "output_type": "stream",
     "text": [
      "{'saitama', 'chiba', 'yamanashi', 'kanagawa'}\n",
      "{'saitama', 'chiba', 'yamanashi', 'kanagawa'}\n"
     ]
    }
   ],
   "source": [
    "border_tokyo.add('chiba')\n",
    "print(border_tokyo)\n",
    "\n",
    "border_tokyo.add('kanagawa')\n",
    "print(border_tokyo)"
   ]
  },
  {
   "cell_type": "code",
   "execution_count": 4,
   "metadata": {},
   "outputs": [
    {
     "name": "stdout",
     "output_type": "stream",
     "text": [
      "{'chiba', 'saitama', 'nagano', 'yamanashi', 'kanagawa', 'aichi'}\n"
     ]
    }
   ],
   "source": [
    "tokyo_or_shizuoka = border_tokyo.union(border_shizuoka)\n",
    "print(tokyo_or_shizuoka)"
   ]
  },
  {
   "cell_type": "code",
   "execution_count": 5,
   "metadata": {},
   "outputs": [
    {
     "name": "stdout",
     "output_type": "stream",
     "text": [
      "{'yamanashi', 'kanagawa'}\n"
     ]
    }
   ],
   "source": [
    "tokyo_and_shuzuoka = border_tokyo.intersection(border_shizuoka)\n",
    "print(tokyo_and_shuzuoka)"
   ]
  },
  {
   "cell_type": "code",
   "execution_count": 6,
   "metadata": {},
   "outputs": [
    {
     "name": "stdout",
     "output_type": "stream",
     "text": [
      "{'chiba', 'saitama', 'nagano', 'yamanashi', 'kanagawa', 'aichi'}\n",
      "{'chiba', 'saitama', 'nagano', 'yamanashi', 'kanagawa'}\n"
     ]
    }
   ],
   "source": [
    "print(tokyo_or_shizuoka)\n",
    "\n",
    "tokyo_or_shizuoka.remove('aichi')\n",
    "print(tokyo_or_shizuoka)"
   ]
  },
  {
   "cell_type": "code",
   "execution_count": 7,
   "metadata": {},
   "outputs": [
    {
     "name": "stdout",
     "output_type": "stream",
     "text": [
      "{'chiba', 'saitama', 'yamanashi', 'kanagawa'}\n",
      "set()\n"
     ]
    }
   ],
   "source": [
    "tokyo_or_shizuoka.discard('toyama')\n",
    "\n",
    "tokyo_or_shizuoka.discard('nagano')\n",
    "print(tokyo_or_shizuoka)\n",
    "\n",
    "tokyo_or_shizuoka.clear()\n",
    "print(tokyo_or_shizuoka)"
   ]
  }
 ],
 "metadata": {
  "kernelspec": {
   "display_name": "Python 3",
   "language": "python",
   "name": "python3"
  },
  "language_info": {
   "codemirror_mode": {
    "name": "ipython",
    "version": 3
   },
   "file_extension": ".py",
   "mimetype": "text/x-python",
   "name": "python",
   "nbconvert_exporter": "python",
   "pygments_lexer": "ipython3",
   "version": "3.6.5"
  }
 },
 "nbformat": 4,
 "nbformat_minor": 2
}
