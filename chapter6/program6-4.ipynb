{
 "cells": [
  {
   "cell_type": "code",
   "execution_count": 1,
   "metadata": {},
   "outputs": [
    {
     "name": "stdout",
     "output_type": "stream",
     "text": [
      "0.5014050641831088\n"
     ]
    }
   ],
   "source": [
    "#random module\n",
    "\n",
    "import random as rand\n",
    "\n",
    "#random number 0 - 1.0\n",
    "num = rand.random()\n",
    "print(num)"
   ]
  },
  {
   "cell_type": "code",
   "execution_count": 2,
   "metadata": {},
   "outputs": [
    {
     "name": "stdout",
     "output_type": "stream",
     "text": [
      "<class 'float'>\n"
     ]
    }
   ],
   "source": [
    "print(type(num))"
   ]
  },
  {
   "cell_type": "code",
   "execution_count": 3,
   "metadata": {},
   "outputs": [
    {
     "name": "stdout",
     "output_type": "stream",
     "text": [
      "4.845948454209389\n"
     ]
    }
   ],
   "source": [
    "#random number 1.0 - 10.0\n",
    "num = rand.uniform(1.0,10.0)\n",
    "print(num)"
   ]
  },
  {
   "cell_type": "code",
   "execution_count": 4,
   "metadata": {},
   "outputs": [
    {
     "name": "stdout",
     "output_type": "stream",
     "text": [
      "1\n"
     ]
    }
   ],
   "source": [
    "#int type random number 1 - 6\n",
    "num = rand.randint(1,6)\n",
    "print(num)"
   ]
  },
  {
   "cell_type": "code",
   "execution_count": 5,
   "metadata": {},
   "outputs": [
    {
     "name": "stdout",
     "output_type": "stream",
     "text": [
      "i\n",
      "apple\n"
     ]
    }
   ],
   "source": [
    "sentence = 'abcdefgehijk'\n",
    "words = ['apple', 'banana', 'candy', 'donut']\n",
    "\n",
    "#choose at random from a string\n",
    "char = rand.choice(sentence)\n",
    "print(char)\n",
    "\n",
    "#choose at random from a list\n",
    "word = rand.choice(words)\n",
    "print(word)"
   ]
  },
  {
   "cell_type": "code",
   "execution_count": 6,
   "metadata": {},
   "outputs": [
    {
     "name": "stdout",
     "output_type": "stream",
     "text": [
      "['candy', 'apple', 'donut', 'banana']\n",
      "['banana', 'candy', 'donut', 'apple']\n",
      "['candy', 'apple', 'banana', 'donut']\n",
      "['candy', 'donut', 'banana', 'apple']\n",
      "['apple', 'donut', 'banana', 'candy']\n",
      "['donut', 'banana', 'apple', 'candy']\n",
      "['candy', 'banana', 'apple', 'donut']\n",
      "['donut', 'banana', 'candy', 'apple']\n",
      "['candy', 'donut', 'banana', 'apple']\n",
      "['candy', 'donut', 'banana', 'apple']\n"
     ]
    }
   ],
   "source": [
    "#swap the contents of the list at random\n",
    "for i in range(10):\n",
    "    rand.shuffle(words)\n",
    "    print(words)"
   ]
  }
 ],
 "metadata": {
  "kernelspec": {
   "display_name": "Python 3",
   "language": "python",
   "name": "python3"
  },
  "language_info": {
   "codemirror_mode": {
    "name": "ipython",
    "version": 3
   },
   "file_extension": ".py",
   "mimetype": "text/x-python",
   "name": "python",
   "nbconvert_exporter": "python",
   "pygments_lexer": "ipython3",
   "version": "3.6.5"
  }
 },
 "nbformat": 4,
 "nbformat_minor": 2
}
