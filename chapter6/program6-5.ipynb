{
 "cells": [
  {
   "cell_type": "code",
   "execution_count": 1,
   "metadata": {},
   "outputs": [
    {
     "name": "stdout",
     "output_type": "stream",
     "text": [
      "1568437521.5856478\n",
      "<class 'float'>\n",
      "Sat Sep 14 14:05:21 2019\n",
      "<class 'str'>\n"
     ]
    }
   ],
   "source": [
    "#time module\n",
    "\n",
    "import time\n",
    "\n",
    "print(time.time())\n",
    "print(type(time.time()))\n",
    "\n",
    "print(time.ctime())\n",
    "print(type(time.ctime()))"
   ]
  },
  {
   "cell_type": "code",
   "execution_count": 2,
   "metadata": {},
   "outputs": [
    {
     "name": "stdout",
     "output_type": "stream",
     "text": [
      "sleep\n",
      "Sat Sep 14 14:08:53 2019\n",
      "Sat Sep 14 14:08:58 2019\n",
      "finish sleep\n"
     ]
    }
   ],
   "source": [
    "print('sleep')\n",
    "print(time.ctime())\n",
    "time.sleep(5)\n",
    "print(time.ctime())\n",
    "print('finish sleep')"
   ]
  }
 ],
 "metadata": {
  "kernelspec": {
   "display_name": "Python 3",
   "language": "python",
   "name": "python3"
  },
  "language_info": {
   "codemirror_mode": {
    "name": "ipython",
    "version": 3
   },
   "file_extension": ".py",
   "mimetype": "text/x-python",
   "name": "python",
   "nbconvert_exporter": "python",
   "pygments_lexer": "ipython3",
   "version": "3.6.5"
  }
 },
 "nbformat": 4,
 "nbformat_minor": 2
}
