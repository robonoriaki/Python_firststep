{
 "cells": [
  {
   "cell_type": "code",
   "execution_count": 1,
   "metadata": {},
   "outputs": [
    {
     "name": "stdout",
     "output_type": "stream",
     "text": [
      "{\"user\": {\"name\": \"Noriaki Kanai\", \"age\": 22}, \"country\": {\"name\": \"Japan\", \"city\": [\"tokyo\", \"osaka\", \"hukuoka\"]}}\n"
     ]
    }
   ],
   "source": [
    "#json module\n",
    "\n",
    "import json\n",
    "\n",
    "dict_data = {\n",
    "    'user':{\n",
    "        'name': 'Noriaki Kanai',\n",
    "        'age': 22,\n",
    "    },\n",
    "    'country':{\n",
    "        'name': 'Japan',\n",
    "        'city':['tokyo','osaka','hukuoka']\n",
    "    }\n",
    "}\n",
    "#Use \"dumps\", dictioanary type -> json data\n",
    "json_data = json.dumps(dict_data)\n",
    "print(json_data)\n",
    "\n",
    "#open file with \"write\" mode\n",
    "file = open('test.json','w')\n",
    "#save json data as file\n",
    "json.dump(json_data,file)\n",
    "#close file\n",
    "file.close()"
   ]
  },
  {
   "cell_type": "code",
   "execution_count": 2,
   "metadata": {},
   "outputs": [
    {
     "name": "stdout",
     "output_type": "stream",
     "text": [
      "\"{\\\"user\\\": {\\\"name\\\": \\\"Noriaki Kanai\\\", \\\"age\\\": 22}, \\\"country\\\": {\\\"name\\\": \\\"Japan\\\", \\\"city\\\": [\\\"tokyo\\\", \\\"osaka\\\", \\\"hukuoka\\\"]}}\"\n"
     ]
    }
   ],
   "source": [
    "#open file with \"read\" mode\n",
    "file = open('test.json','r')\n",
    "#load json data\n",
    "jdata = json.load(file)\n",
    "#4 space indent\n",
    "print(json.dumps(jdata,sort_keys=True, indent=4))\n",
    "file.close()"
   ]
  }
 ],
 "metadata": {
  "kernelspec": {
   "display_name": "Python 3",
   "language": "python",
   "name": "python3"
  },
  "language_info": {
   "codemirror_mode": {
    "name": "ipython",
    "version": 3
   },
   "file_extension": ".py",
   "mimetype": "text/x-python",
   "name": "python",
   "nbconvert_exporter": "python",
   "pygments_lexer": "ipython3",
   "version": "3.6.5"
  }
 },
 "nbformat": 4,
 "nbformat_minor": 2
}
