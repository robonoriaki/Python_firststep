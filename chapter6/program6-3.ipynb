{
 "cells": [
  {
   "cell_type": "code",
   "execution_count": null,
   "metadata": {},
   "outputs": [],
   "source": [
    "#tkinter\n",
    "#make GUI\n",
    "\n",
    "import tkinter\n",
    "\n",
    "\n",
    "\n",
    "#make WINDOW\n",
    "window = tkinter.Tk()\n",
    "\n",
    "#make title, 'u' makes string Unicode\n",
    "window.title(u'TITLE')\n",
    "\n",
    "#'Label' makes text on 'window'\n",
    "label = tkinter.Label(window, text = 'Hello World')\n",
    "#'grid()' diplay label\n",
    "label.grid()\n",
    "\n",
    "#make button, 'text' is a string attached to the button\n",
    "button = tkinter.Button(window, text = 'push here')\n",
    "#'grid()' display button\n",
    "button.grid()\n",
    "\n",
    "#set 'window' size\n",
    "window.geometry('320x240')\n",
    "\n",
    "#display 'window'\n",
    "window.mainloop()"
   ]
  }
 ],
 "metadata": {
  "kernelspec": {
   "display_name": "Python 3",
   "language": "python",
   "name": "python3"
  },
  "language_info": {
   "codemirror_mode": {
    "name": "ipython",
    "version": 3
   },
   "file_extension": ".py",
   "mimetype": "text/x-python",
   "name": "python",
   "nbconvert_exporter": "python",
   "pygments_lexer": "ipython3",
   "version": "3.6.5"
  }
 },
 "nbformat": 4,
 "nbformat_minor": 2
}
