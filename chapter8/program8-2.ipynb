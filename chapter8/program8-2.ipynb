{
 "cells": [
  {
   "cell_type": "code",
   "execution_count": 1,
   "metadata": {},
   "outputs": [
    {
     "name": "stdout",
     "output_type": "stream",
     "text": [
      "<class '__main__.Drink'>\n"
     ]
    }
   ],
   "source": [
    "#Class\n",
    "class Drink:\n",
    "    \n",
    "    pass    #skip here without doing anything\n",
    "\n",
    "#\"drink\" is Instance\n",
    "drink = Drink()\n",
    "\n",
    "print(type(drink))"
   ]
  },
  {
   "cell_type": "code",
   "execution_count": 3,
   "metadata": {},
   "outputs": [
    {
     "name": "stdout",
     "output_type": "stream",
     "text": [
      "250mL\n"
     ]
    }
   ],
   "source": [
    "class Drink:\n",
    "    #Method\n",
    "    def print_capacity(self, capacity):    #\"self\" must be included\n",
    "        print('{}mL'.format(capacity))\n",
    "    \n",
    "drink = Drink()\n",
    "\n",
    "drink.print_capacity(250)"
   ]
  },
  {
   "cell_type": "code",
   "execution_count": 4,
   "metadata": {},
   "outputs": [
    {
     "name": "stdout",
     "output_type": "stream",
     "text": [
      "300mL\n"
     ]
    }
   ],
   "source": [
    "class Drink:\n",
    "    #Method\n",
    "    def set_capacity(self, capacity):    #Holds data called \"capacity\"\n",
    "        self.capacity = capacity\n",
    "        \n",
    "    def print_capacity(self):\n",
    "        print('{}mL'.format(self.capacity))\n",
    "    \n",
    "drink = Drink()\n",
    "drink.set_capacity(300)\n",
    "drink.print_capacity()"
   ]
  },
  {
   "cell_type": "code",
   "execution_count": 1,
   "metadata": {},
   "outputs": [
    {
     "name": "stdout",
     "output_type": "stream",
     "text": [
      "wine    750mL\n",
      "coke    500mL\n"
     ]
    }
   ],
   "source": [
    "class Drink:\n",
    "    #Constructor\n",
    "    #Special methods that are called automatically\n",
    "    def __init__(self, label, capacity):    #Holds data called \"label\" and \"capacity\"\n",
    "        self.label = label\n",
    "        self.capacity = capacity\n",
    "    \n",
    "    #Method\n",
    "    def print_info(self):\n",
    "        print('{0}    {1}mL'.format(self.label,self.capacity))\n",
    "    \n",
    "drink = Drink('wine',750)\n",
    "drink.print_info()\n",
    "\n",
    "drink2 = Drink('coke',500)\n",
    "drink2.print_info()"
   ]
  },
  {
   "cell_type": "code",
   "execution_count": null,
   "metadata": {},
   "outputs": [],
   "source": []
  }
 ],
 "metadata": {
  "kernelspec": {
   "display_name": "Python 3",
   "language": "python",
   "name": "python3"
  },
  "language_info": {
   "codemirror_mode": {
    "name": "ipython",
    "version": 3
   },
   "file_extension": ".py",
   "mimetype": "text/x-python",
   "name": "python",
   "nbconvert_exporter": "python",
   "pygments_lexer": "ipython3",
   "version": "3.6.5"
  }
 },
 "nbformat": 4,
 "nbformat_minor": 2
}
