{
 "cells": [
  {
   "cell_type": "code",
   "execution_count": 1,
   "metadata": {},
   "outputs": [
    {
     "name": "stdout",
     "output_type": "stream",
     "text": [
      "<class '__main__.Drink'>\n"
     ]
    }
   ],
   "source": [
    "#Class\n",
    "class Drink:\n",
    "    \n",
    "    pass    #skip here without doing anything\n",
    "\n",
    "#\"drink\" is Instance\n",
    "drink = Drink()\n",
    "\n",
    "print(type(drink))"
   ]
  },
  {
   "cell_type": "code",
   "execution_count": 2,
   "metadata": {},
   "outputs": [
    {
     "name": "stdout",
     "output_type": "stream",
     "text": [
      "250mL\n"
     ]
    }
   ],
   "source": [
    "class Drink:\n",
    "    #Method\n",
    "    def print_capacity(self, capacity):    #\"self\" must be included\n",
    "        print('{}mL'.format(capacity))\n",
    "    \n",
    "drink = Drink()\n",
    "\n",
    "drink.print_capacity(250)"
   ]
  },
  {
   "cell_type": "code",
   "execution_count": 3,
   "metadata": {},
   "outputs": [
    {
     "name": "stdout",
     "output_type": "stream",
     "text": [
      "300mL\n"
     ]
    }
   ],
   "source": [
    "class Drink:\n",
    "    #Method\n",
    "    def set_capacity(self, capacity):    #Holds data called \"capacity\"\n",
    "        self.capacity = capacity\n",
    "        \n",
    "    def print_capacity(self):\n",
    "        print('{}mL'.format(self.capacity))\n",
    "    \n",
    "drink = Drink()\n",
    "drink.set_capacity(300)\n",
    "drink.print_capacity()"
   ]
  },
  {
   "cell_type": "code",
   "execution_count": 4,
   "metadata": {},
   "outputs": [
    {
     "name": "stdout",
     "output_type": "stream",
     "text": [
      "wine    750mL\n",
      "coke    500mL\n"
     ]
    }
   ],
   "source": [
    "class Drink:\n",
    "    #Constructor\n",
    "    #Special methods that are called automatically\n",
    "    def __init__(self, label, capacity):    #Holds data called \"label\" and \"capacity\"\n",
    "        self.label = label\n",
    "        self.capacity = capacity\n",
    "    \n",
    "    #Method\n",
    "    def print_info(self):\n",
    "        print('{0}    {1}mL'.format(self.label,self.capacity))\n",
    "    \n",
    "drink = Drink('wine',750)\n",
    "drink.print_info()\n",
    "\n",
    "drink2 = Drink('coke',500)\n",
    "drink2.print_info()"
   ]
  },
  {
   "cell_type": "code",
   "execution_count": 5,
   "metadata": {},
   "outputs": [
    {
     "name": "stdout",
     "output_type": "stream",
     "text": [
      "coffee    500mL\n"
     ]
    }
   ],
   "source": [
    "#\"drink\" data can be changed\n",
    "drink.label = 'coffee'\n",
    "drink.capacity = 500\n",
    "\n",
    "drink.print_info()"
   ]
  },
  {
   "cell_type": "code",
   "execution_count": 6,
   "metadata": {},
   "outputs": [
    {
     "name": "stdout",
     "output_type": "stream",
     "text": [
      "wine    750mL\n",
      "coke    500mL\n",
      "coffee\n",
      "['_Drink__label', '__class__', '__delattr__', '__dict__', '__dir__', '__doc__', '__eq__', '__format__', '__ge__', '__getattribute__', '__gt__', '__hash__', '__init__', '__init_subclass__', '__label', '__le__', '__lt__', '__module__', '__ne__', '__new__', '__reduce__', '__reduce_ex__', '__repr__', '__setattr__', '__sizeof__', '__str__', '__subclasshook__', '__weakref__', 'capacity', 'print_info']\n"
     ]
    }
   ],
   "source": [
    "class Drink:\n",
    "    #Constructor\n",
    "    #Special methods that are called automatically\n",
    "    def __init__(self, label, capacity):    #Holds data called \"label\" and \"capacity\"\n",
    "        self.__label = label    #private variable?\n",
    "        self.capacity = capacity\n",
    "    \n",
    "    #Method\n",
    "    def print_info(self):\n",
    "        print('{0}    {1}mL'.format(self.__label,self.capacity))\n",
    "        \n",
    "        \n",
    "drink = Drink('wine',750)\n",
    "drink.print_info()\n",
    "\n",
    "drink2 = Drink('coke',500)\n",
    "drink2.print_info()\n",
    "\n",
    "drink.__label = 'coffee'    #クラス内で定義した __label を新たに設定できてしまった\n",
    "print(drink.__label)\n",
    "print(dir(drink))    #_Drink__label と __label があるとわかる\n",
    "#プライベート変数のカラクリ\n",
    "#クラス内部で定義した __label という変数を _Drink__label に変更したことで、__label を隠していただけだった\n",
    "#つまり、 __label はなくった\n",
    "#そのため、 __label にアクセスできて'coffee'を入れることができた"
   ]
  },
  {
   "cell_type": "code",
   "execution_count": 7,
   "metadata": {},
   "outputs": [
    {
     "name": "stdout",
     "output_type": "stream",
     "text": [
      "wine    750mL\n",
      "coke    500mL\n",
      "['__class__', '__delattr__', '__dict__', '__dir__', '__doc__', '__eq__', '__format__', '__ge__', '__getattribute__', '__gt__', '__hash__', '__init__', '__init_subclass__', '__le__', '__lt__', '__module__', '__ne__', '__new__', '__reduce__', '__reduce_ex__', '__repr__', '__setattr__', '__sizeof__', '__str__', '__subclasshook__', '__weakref__', '_label', 'capacity', 'print_info']\n"
     ]
    }
   ],
   "source": [
    "#親クラス parents class\n",
    "class Drink:\n",
    "    #Constructor\n",
    "    #Special methods that are called automatically\n",
    "    def __init__(self, label, capacity):    #Holds data called \"label\" and \"capacity\"\n",
    "        #private variable\n",
    "        #アンダースコアは1つだけ プライベート変数であることを説明を記載するドキュメントに残すこと\n",
    "        self._label = label\n",
    "        self.capacity = capacity\n",
    "    \n",
    "    #Method\n",
    "    def print_info(self):\n",
    "        print('{0}    {1}mL'.format(self._label,self.capacity))\n",
    "        \n",
    "        \n",
    "drink = Drink('wine',750)\n",
    "drink.print_info()\n",
    "\n",
    "drink2 = Drink('coke',500)\n",
    "drink2.print_info()\n",
    "\n",
    "print(dir(drink))"
   ]
  },
  {
   "cell_type": "code",
   "execution_count": 8,
   "metadata": {},
   "outputs": [
    {
     "name": "stdout",
     "output_type": "stream",
     "text": [
      "wine    800mL\n",
      "coke    500mL\n"
     ]
    }
   ],
   "source": [
    "#子クラス child class\n",
    "class Wine(Drink):\n",
    "    def __init__(self, label, capacity, color, alcohol):\n",
    "        #super()は親クラスのことを指す\n",
    "        #つまり、親クラスのコンストラクタを利用するということ\n",
    "        super().__init__(label, capacity)\n",
    "        self.color = color\n",
    "        self.alcohol = alcohol\n",
    "        \n",
    "class Soft_Drink(Drink):\n",
    "    def __init__(self, label, capacity, category, vendor):\n",
    "        super().__init__(label, capacity)\n",
    "        self.category = category\n",
    "        self.vendor = vendor\n",
    "        \n",
    "        \n",
    "wine = Wine('wine', 800, 'red', 15)\n",
    "coke = Soft_Drink('coke', 500, 'soda', 'coca cola')\n",
    "\n",
    "wine.print_info()\n",
    "coke.print_info()"
   ]
  },
  {
   "cell_type": "code",
   "execution_count": null,
   "metadata": {},
   "outputs": [],
   "source": []
  }
 ],
 "metadata": {
  "kernelspec": {
   "display_name": "Python 3",
   "language": "python",
   "name": "python3"
  },
  "language_info": {
   "codemirror_mode": {
    "name": "ipython",
    "version": 3
   },
   "file_extension": ".py",
   "mimetype": "text/x-python",
   "name": "python",
   "nbconvert_exporter": "python",
   "pygments_lexer": "ipython3",
   "version": "3.6.5"
  }
 },
 "nbformat": 4,
 "nbformat_minor": 2
}
