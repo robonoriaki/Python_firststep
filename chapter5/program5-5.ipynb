{
 "cells": [
  {
   "cell_type": "code",
   "execution_count": 1,
   "metadata": {},
   "outputs": [
    {
     "name": "stdout",
     "output_type": "stream",
     "text": [
      "HELLO!\n"
     ]
    }
   ],
   "source": [
    "#Function\n",
    "\n",
    "def hello():\n",
    "    print('HELLO!')\n",
    "\n",
    "hello()"
   ]
  },
  {
   "cell_type": "code",
   "execution_count": 2,
   "metadata": {},
   "outputs": [
    {
     "name": "stdout",
     "output_type": "stream",
     "text": [
      "Hello! noriaki\n",
      "Hello! noriaki\n",
      "22 years old\n"
     ]
    }
   ],
   "source": [
    "def output_hello(name,age):\n",
    "    print('Hello! ' + name)\n",
    "    print('Hello! {}'.format(name))\n",
    "    print('{} years old'.format(age))\n",
    "\n",
    "output_hello('noriaki',22)"
   ]
  },
  {
   "cell_type": "code",
   "execution_count": 3,
   "metadata": {},
   "outputs": [
    {
     "name": "stdout",
     "output_type": "stream",
     "text": [
      "Hello! Noriaki\n",
      "Hello! Noriaki\n",
      "22 years old\n"
     ]
    }
   ],
   "source": [
    "output_hello(age = 22, name = 'Noriaki')"
   ]
  },
  {
   "cell_type": "code",
   "execution_count": 4,
   "metadata": {},
   "outputs": [
    {
     "name": "stdout",
     "output_type": "stream",
     "text": [
      "Hello world\n",
      "age: 99\n",
      "Hello world\n",
      "age: 30\n",
      "Hello Noriaki\n",
      "age: 22\n"
     ]
    }
   ],
   "source": [
    "def hello(name = 'world', age = 99):\n",
    "    print('Hello ' + name)\n",
    "    print('age: {}'.format(age))\n",
    "    \n",
    "hello()\n",
    "hello(age = 30)\n",
    "hello('Noriaki',22)"
   ]
  },
  {
   "cell_type": "code",
   "execution_count": 5,
   "metadata": {},
   "outputs": [
    {
     "name": "stdout",
     "output_type": "stream",
     "text": [
      "10\n"
     ]
    }
   ],
   "source": [
    "def mult(input1,input2):\n",
    "    return input1 * input2\n",
    "\n",
    "a = mult(2,5)\n",
    "print(a)"
   ]
  },
  {
   "cell_type": "code",
   "execution_count": 6,
   "metadata": {},
   "outputs": [
    {
     "name": "stdout",
     "output_type": "stream",
     "text": [
      "None\n"
     ]
    }
   ],
   "source": [
    "def func_pass():\n",
    "    #何も処理しない場合に書く\n",
    "    #関数を定義して、後で中身を書く場合によく使う\n",
    "    pass\n",
    "\n",
    "a = func_pass()\n",
    "print(a)\n",
    "#None　は「何もない」ということ"
   ]
  }
 ],
 "metadata": {
  "kernelspec": {
   "display_name": "Python 3",
   "language": "python",
   "name": "python3"
  },
  "language_info": {
   "codemirror_mode": {
    "name": "ipython",
    "version": 3
   },
   "file_extension": ".py",
   "mimetype": "text/x-python",
   "name": "python",
   "nbconvert_exporter": "python",
   "pygments_lexer": "ipython3",
   "version": "3.6.5"
  }
 },
 "nbformat": 4,
 "nbformat_minor": 2
}
