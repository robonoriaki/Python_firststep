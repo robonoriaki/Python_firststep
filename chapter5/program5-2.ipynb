{
 "cells": [
  {
   "cell_type": "code",
   "execution_count": 1,
   "metadata": {},
   "outputs": [
    {
     "name": "stdout",
     "output_type": "stream",
     "text": [
      "x is bigger than zero\n"
     ]
    }
   ],
   "source": [
    "#if syntax\n",
    "\n",
    "x = 1\n",
    "\n",
    "if x > 0:\n",
    "    print('x is bigger than zero')\n",
    "    \n",
    "if x < 0:\n",
    "    print('x is smaller than zero')\n",
    "    \n",
    "if x == 0:\n",
    "    print('x is zero')"
   ]
  },
  {
   "cell_type": "code",
   "execution_count": 2,
   "metadata": {},
   "outputs": [
    {
     "name": "stdout",
     "output_type": "stream",
     "text": [
      "x is not one\n"
     ]
    }
   ],
   "source": [
    "x = 2\n",
    "\n",
    "if x != 1:\n",
    "    print('x is not one')"
   ]
  },
  {
   "cell_type": "code",
   "execution_count": 3,
   "metadata": {},
   "outputs": [
    {
     "name": "stdout",
     "output_type": "stream",
     "text": [
      "x is three or bigger than three\n"
     ]
    }
   ],
   "source": [
    "x = 4\n",
    "\n",
    "if x >= 3:\n",
    "    print('x is three or bigger than three')"
   ]
  },
  {
   "cell_type": "code",
   "execution_count": 4,
   "metadata": {},
   "outputs": [
    {
     "name": "stdout",
     "output_type": "stream",
     "text": [
      "B\n",
      "C\n"
     ]
    }
   ],
   "source": [
    "x = 1\n",
    "\n",
    "if (x != 0 and x < 0):\n",
    "    print('A')\n",
    "\n",
    "if (x != 2 or x < 0):\n",
    "    print('B')\n",
    "\n",
    "if (x > 0 and x == 1):\n",
    "    print('C')"
   ]
  },
  {
   "cell_type": "code",
   "execution_count": 5,
   "metadata": {},
   "outputs": [
    {
     "name": "stdout",
     "output_type": "stream",
     "text": [
      "\"Python\" is in x\n"
     ]
    }
   ],
   "source": [
    "x = 'rubyPythonphpCJava'\n",
    "\n",
    "if 'Python' in x:\n",
    "    print('\"Python\" is in x')\n",
    "\n",
    "if 'Love' in x:\n",
    "    print('\"Love\" is in x')\n",
    "    \n",
    "if 'python' in x:\n",
    "    print('\"python\" is in x')"
   ]
  },
  {
   "cell_type": "code",
   "execution_count": 6,
   "metadata": {},
   "outputs": [
    {
     "name": "stdout",
     "output_type": "stream",
     "text": [
      "\"Python\" is in x\n",
      "\"ruby\" is in y\n"
     ]
    }
   ],
   "source": [
    "x = ['ruby','Python','php','Java']\n",
    "y = ('ruby','Python','php','Java')\n",
    "\n",
    "if 'Python' in x:\n",
    "    print('\"Python\" is in x')\n",
    "    \n",
    "if 'ruby' in y:\n",
    "    print('\"ruby\" is in y')"
   ]
  },
  {
   "cell_type": "code",
   "execution_count": 7,
   "metadata": {},
   "outputs": [
    {
     "name": "stdout",
     "output_type": "stream",
     "text": [
      "[2, 4, 6, 8, 10]\n"
     ]
    }
   ],
   "source": [
    "x = []\n",
    "\n",
    "for i in range(1,11):\n",
    "    if i % 2 == 0:\n",
    "        x.append(i)\n",
    "        \n",
    "print(x)"
   ]
  }
 ],
 "metadata": {
  "kernelspec": {
   "display_name": "Python 3",
   "language": "python",
   "name": "python3"
  },
  "language_info": {
   "codemirror_mode": {
    "name": "ipython",
    "version": 3
   },
   "file_extension": ".py",
   "mimetype": "text/x-python",
   "name": "python",
   "nbconvert_exporter": "python",
   "pygments_lexer": "ipython3",
   "version": "3.6.5"
  }
 },
 "nbformat": 4,
 "nbformat_minor": 2
}
