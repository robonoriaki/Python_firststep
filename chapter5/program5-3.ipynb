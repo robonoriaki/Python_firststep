{
 "cells": [
  {
   "cell_type": "code",
   "execution_count": 1,
   "metadata": {},
   "outputs": [
    {
     "name": "stdout",
     "output_type": "stream",
     "text": [
      "x is smaller than zero\n"
     ]
    }
   ],
   "source": [
    "#if else syntax\n",
    "\n",
    "x = -4\n",
    "\n",
    "if x > 0:\n",
    "    print('x is bigger than zero')\n",
    "else:\n",
    "    print('x is smaller than zero')"
   ]
  },
  {
   "cell_type": "code",
   "execution_count": 2,
   "metadata": {},
   "outputs": [
    {
     "name": "stdout",
     "output_type": "stream",
     "text": [
      "even -> [2, 4, 6, 8, 10]\n",
      "odd -> [1, 3, 5, 7, 9]\n"
     ]
    }
   ],
   "source": [
    "even = []\n",
    "odd = []\n",
    "\n",
    "for i in range(1,11):\n",
    "    if (i % 2 == 0):\n",
    "        even.append(i)\n",
    "    else:\n",
    "        odd.append(i)\n",
    "        \n",
    "print('even -> {}'.format(even))\n",
    "print('odd -> {}'.format(odd))"
   ]
  },
  {
   "cell_type": "code",
   "execution_count": 3,
   "metadata": {},
   "outputs": [
    {
     "name": "stdout",
     "output_type": "stream",
     "text": [
      "even -> [2, 4, 6, 8, 10]\n",
      "odd -> [1, 3, 5, 7, 9]\n"
     ]
    }
   ],
   "source": [
    "even = []\n",
    "odd = []\n",
    "\n",
    "for i in range(1,11):\n",
    "    even.append(i) if i % 2 == 0 else odd.append(i)\n",
    "        \n",
    "print('even -> {}'.format(even))\n",
    "print('odd -> {}'.format(odd))"
   ]
  },
  {
   "cell_type": "code",
   "execution_count": 5,
   "metadata": {},
   "outputs": [
    {
     "name": "stdout",
     "output_type": "stream",
     "text": [
      "positive -> [1, 2, 3, 4, 5, 6, 7, 8, 9, 10]\n",
      "negative -> [-10, -9, -8, -7, -6, -5, -4, -3, -2, -1]\n",
      "zero -> [0]\n"
     ]
    }
   ],
   "source": [
    "positive = []\n",
    "negative = []\n",
    "zero = []\n",
    "\n",
    "for i in range(-10,11):\n",
    "    if i > 0:\n",
    "        positive.append(i)\n",
    "    elif i < 0:\n",
    "        negative.append(i)\n",
    "    else:\n",
    "        zero.append(i)\n",
    "\n",
    "print('positive -> {}'.format(positive))\n",
    "print('negative -> {}'.format(negative))\n",
    "print('zero -> {}'.format(zero))"
   ]
  }
 ],
 "metadata": {
  "kernelspec": {
   "display_name": "Python 3",
   "language": "python",
   "name": "python3"
  },
  "language_info": {
   "codemirror_mode": {
    "name": "ipython",
    "version": 3
   },
   "file_extension": ".py",
   "mimetype": "text/x-python",
   "name": "python",
   "nbconvert_exporter": "python",
   "pygments_lexer": "ipython3",
   "version": "3.6.5"
  }
 },
 "nbformat": 4,
 "nbformat_minor": 2
}
