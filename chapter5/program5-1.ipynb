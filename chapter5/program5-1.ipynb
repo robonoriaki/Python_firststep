{
 "cells": [
  {
   "cell_type": "code",
   "execution_count": 1,
   "metadata": {},
   "outputs": [
    {
     "name": "stdout",
     "output_type": "stream",
     "text": [
      "Hello World! round 0\n",
      "Hello World! round 1\n",
      "Hello World! round 2\n",
      "Hello World! round 3\n",
      "Hello World! round 4\n"
     ]
    }
   ],
   "source": [
    "#Chapter5-1\n",
    "\n",
    "for i in range(5):\n",
    "    print('Hello World! round {}'.format(i))"
   ]
  },
  {
   "cell_type": "code",
   "execution_count": 2,
   "metadata": {},
   "outputs": [
    {
     "name": "stdout",
     "output_type": "stream",
     "text": [
      "round 1\n",
      "round 2\n",
      "round 3\n",
      "round 4\n",
      "round 5\n"
     ]
    }
   ],
   "source": [
    "for i in range(1,6):\n",
    "    print('round {}'.format(i))"
   ]
  },
  {
   "cell_type": "code",
   "execution_count": 3,
   "metadata": {},
   "outputs": [
    {
     "name": "stdout",
     "output_type": "stream",
     "text": [
      "round 1\n",
      "round 3\n",
      "round 5\n"
     ]
    }
   ],
   "source": [
    "for i in range(1,6,2):\n",
    "    print('round {}'.format(i))"
   ]
  },
  {
   "cell_type": "code",
   "execution_count": 4,
   "metadata": {},
   "outputs": [
    {
     "name": "stdout",
     "output_type": "stream",
     "text": [
      "character -> a\n",
      "character -> b\n",
      "character -> c\n"
     ]
    }
   ],
   "source": [
    "for i in ['a','b','c']:\n",
    "    print('character -> {}'.format(i))"
   ]
  },
  {
   "cell_type": "code",
   "execution_count": 5,
   "metadata": {},
   "outputs": [
    {
     "name": "stdout",
     "output_type": "stream",
     "text": [
      "character -> e\n",
      "character -> f\n",
      "character -> g\n"
     ]
    }
   ],
   "source": [
    "for i in ('e','f','g'):\n",
    "    print('character -> {}'.format(i))"
   ]
  },
  {
   "cell_type": "code",
   "execution_count": 6,
   "metadata": {},
   "outputs": [
    {
     "name": "stdout",
     "output_type": "stream",
     "text": [
      "character -> y\n",
      "character -> x\n",
      "character -> z\n"
     ]
    }
   ],
   "source": [
    "for i in {'x','y','z'}:\n",
    "    print('character -> {}'.format(i))"
   ]
  },
  {
   "cell_type": "code",
   "execution_count": 7,
   "metadata": {},
   "outputs": [
    {
     "name": "stdout",
     "output_type": "stream",
     "text": [
      "h\n",
      "e\n",
      "l\n",
      "l\n",
      "o\n"
     ]
    }
   ],
   "source": [
    "for i in 'hello':\n",
    "    print(i)"
   ]
  },
  {
   "cell_type": "code",
   "execution_count": 8,
   "metadata": {},
   "outputs": [
    {
     "name": "stdout",
     "output_type": "stream",
     "text": [
      "index 0, value -> a\n",
      "index 1, value -> b\n",
      "index 2, value -> c\n",
      "index 3, value -> d\n"
     ]
    }
   ],
   "source": [
    "for i, value in enumerate(['a','b','c','d']):\n",
    "    print('index {0}, value -> {1}'.format(i,value))"
   ]
  },
  {
   "cell_type": "code",
   "execution_count": 9,
   "metadata": {},
   "outputs": [
    {
     "name": "stdout",
     "output_type": "stream",
     "text": [
      "index 0, kye -> a, value -> 123\n",
      "index 1, kye -> b, value -> 234\n",
      "index 2, kye -> c, value -> 345\n",
      "index 3, kye -> d, value -> 456\n"
     ]
    }
   ],
   "source": [
    "dic = {'a':123,'b':234,'c':345,'d':456}\n",
    "\n",
    "for i, key in enumerate(dic):\n",
    "    print('index {0}, kye -> {1}, value -> {2}'.format(i,key,dic[key]))"
   ]
  },
  {
   "cell_type": "code",
   "execution_count": null,
   "metadata": {},
   "outputs": [],
   "source": []
  }
 ],
 "metadata": {
  "kernelspec": {
   "display_name": "Python 3",
   "language": "python",
   "name": "python3"
  },
  "language_info": {
   "codemirror_mode": {
    "name": "ipython",
    "version": 3
   },
   "file_extension": ".py",
   "mimetype": "text/x-python",
   "name": "python",
   "nbconvert_exporter": "python",
   "pygments_lexer": "ipython3",
   "version": "3.6.5"
  }
 },
 "nbformat": 4,
 "nbformat_minor": 2
}
