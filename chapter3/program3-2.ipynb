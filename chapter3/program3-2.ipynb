{
 "cells": [
  {
   "cell_type": "code",
   "execution_count": 1,
   "metadata": {},
   "outputs": [
    {
     "name": "stdout",
     "output_type": "stream",
     "text": [
      "1 + 3 = ?\n",
      "4\n"
     ]
    }
   ],
   "source": [
    "print('1 + 3 = ?')\n",
    "print(1 + 3)"
   ]
  },
  {
   "cell_type": "code",
   "execution_count": 2,
   "metadata": {},
   "outputs": [
    {
     "name": "stdout",
     "output_type": "stream",
     "text": [
      "10 - 3 = ?\n",
      "7\n"
     ]
    }
   ],
   "source": [
    "print('10 - 3 = ?')\n",
    "print(10 - 3)"
   ]
  },
  {
   "cell_type": "code",
   "execution_count": 3,
   "metadata": {},
   "outputs": [
    {
     "name": "stdout",
     "output_type": "stream",
     "text": [
      "3 * 3 * 33 = ?\n",
      "297\n"
     ]
    }
   ],
   "source": [
    "print('3 * 3 * 33 = ?')\n",
    "print(3 * 3 * 33)"
   ]
  },
  {
   "cell_type": "code",
   "execution_count": 4,
   "metadata": {},
   "outputs": [
    {
     "name": "stdout",
     "output_type": "stream",
     "text": [
      "164 / 3 = ?\n",
      "54.666666666666664\n",
      "164 % 3 = ?\n",
      "2\n",
      "164 // 3 = ?\n",
      "54\n"
     ]
    }
   ],
   "source": [
    "print('164 / 3 = ?')\n",
    "print(164 / 3)\n",
    "\n",
    "print('164 % 3 = ?')\n",
    "print(164 % 3)\n",
    "\n",
    "print('164 // 3 = ?')\n",
    "print(164 // 3)"
   ]
  },
  {
   "cell_type": "code",
   "execution_count": 5,
   "metadata": {},
   "outputs": [
    {
     "name": "stdout",
     "output_type": "stream",
     "text": [
      "3 + 3 * 33 = ?\n",
      "102\n"
     ]
    }
   ],
   "source": [
    "print('3 + 3 * 33 = ?')\n",
    "print(3 + 3 * 33)"
   ]
  }
 ],
 "metadata": {
  "kernelspec": {
   "display_name": "Python 3",
   "language": "python",
   "name": "python3"
  },
  "language_info": {
   "codemirror_mode": {
    "name": "ipython",
    "version": 3
   },
   "file_extension": ".py",
   "mimetype": "text/x-python",
   "name": "python",
   "nbconvert_exporter": "python",
   "pygments_lexer": "ipython3",
   "version": "3.6.5"
  }
 },
 "nbformat": 4,
 "nbformat_minor": 2
}
