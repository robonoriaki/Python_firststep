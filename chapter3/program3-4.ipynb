{
 "cells": [
  {
   "cell_type": "code",
   "execution_count": 1,
   "metadata": {},
   "outputs": [
    {
     "name": "stdout",
     "output_type": "stream",
     "text": [
      "1\n",
      "2\n"
     ]
    }
   ],
   "source": [
    "a = 1\n",
    "print(a)\n",
    "\n",
    "a = 2\n",
    "print(a)"
   ]
  },
  {
   "cell_type": "code",
   "execution_count": 2,
   "metadata": {},
   "outputs": [
    {
     "name": "stdout",
     "output_type": "stream",
     "text": [
      "68\n",
      "72\n"
     ]
    }
   ],
   "source": [
    "a = 68\n",
    "b = 72\n",
    "print(a)\n",
    "print(b)"
   ]
  },
  {
   "cell_type": "code",
   "execution_count": 3,
   "metadata": {},
   "outputs": [
    {
     "name": "stdout",
     "output_type": "stream",
     "text": [
      "a + b = ?\n",
      "140\n",
      "a < b\n",
      "True\n"
     ]
    }
   ],
   "source": [
    "a = 68\n",
    "b = 72\n",
    "print('a + b = ?')\n",
    "print(a + b)\n",
    "\n",
    "print('a < b')\n",
    "print(a < b)"
   ]
  },
  {
   "cell_type": "code",
   "execution_count": 4,
   "metadata": {},
   "outputs": [
    {
     "name": "stdout",
     "output_type": "stream",
     "text": [
      "If you want to use Constant you will wite Variable name in uppercase letter.\n",
      "1\n"
     ]
    }
   ],
   "source": [
    "print('If you want to use Constant you will wite Variable name in uppercase letter.')\n",
    "CONST_A = 1\n",
    "print(CONST_A)"
   ]
  },
  {
   "cell_type": "code",
   "execution_count": 5,
   "metadata": {},
   "outputs": [
    {
     "name": "stdout",
     "output_type": "stream",
     "text": [
      "This is not comment.\n"
     ]
    }
   ],
   "source": [
    "#This is comment\n",
    "\n",
    "'''\n",
    "This is comment too\n",
    "\n",
    "'''\n",
    "\n",
    "\"\"\"\n",
    "\n",
    "This is comment too\n",
    "\n",
    "\"\"\"\n",
    "\n",
    "print('This is not comment.')"
   ]
  }
 ],
 "metadata": {
  "kernelspec": {
   "display_name": "Python 3",
   "language": "python",
   "name": "python3"
  },
  "language_info": {
   "codemirror_mode": {
    "name": "ipython",
    "version": 3
   },
   "file_extension": ".py",
   "mimetype": "text/x-python",
   "name": "python",
   "nbconvert_exporter": "python",
   "pygments_lexer": "ipython3",
   "version": "3.6.5"
  }
 },
 "nbformat": 4,
 "nbformat_minor": 2
}
