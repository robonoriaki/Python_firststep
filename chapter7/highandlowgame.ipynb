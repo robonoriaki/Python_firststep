{
 "cells": [
  {
   "cell_type": "code",
   "execution_count": 1,
   "metadata": {},
   "outputs": [
    {
     "name": "stdout",
     "output_type": "stream",
     "text": [
      "[('club', 1), ('club', 2), ('club', 3), ('club', 4), ('club', 5), ('club', 6), ('club', 7), ('club', 8), ('club', 9), ('club', 10), ('club', 11), ('club', 12), ('club', 13), ('diamond', 1), ('diamond', 2), ('diamond', 3), ('diamond', 4), ('diamond', 5), ('diamond', 6), ('diamond', 7), ('diamond', 8), ('diamond', 9), ('diamond', 10), ('diamond', 11), ('diamond', 12), ('diamond', 13), ('heart', 1), ('heart', 2), ('heart', 3), ('heart', 4), ('heart', 5), ('heart', 6), ('heart', 7), ('heart', 8), ('heart', 9), ('heart', 10), ('heart', 11), ('heart', 12), ('heart', 13), ('spade', 1), ('spade', 2), ('spade', 3), ('spade', 4), ('spade', 5), ('spade', 6), ('spade', 7), ('spade', 8), ('spade', 9), ('spade', 10), ('spade', 11), ('spade', 12), ('spade', 13)]\n",
      "\n",
      "[('club', 1), ('club', 2), ('club', 3), ('club', 4), ('club', 5), ('club', 6), ('club', 7), ('club', 8), ('club', 9), ('club', 10), ('club', 11), ('club', 12), ('club', 13)]\n",
      "[('diamond', 1), ('diamond', 2), ('diamond', 3), ('diamond', 4), ('diamond', 5), ('diamond', 6), ('diamond', 7), ('diamond', 8), ('diamond', 9), ('diamond', 10), ('diamond', 11), ('diamond', 12), ('diamond', 13)]\n",
      "[('heart', 1), ('heart', 2), ('heart', 3), ('heart', 4), ('heart', 5), ('heart', 6), ('heart', 7), ('heart', 8), ('heart', 9), ('heart', 10), ('heart', 11), ('heart', 12), ('heart', 13)]\n",
      "[('spade', 1), ('spade', 2), ('spade', 3), ('spade', 4), ('spade', 5), ('spade', 6), ('spade', 7), ('spade', 8), ('spade', 9), ('spade', 10), ('spade', 11), ('spade', 12), ('spade', 13)]\n",
      "\n",
      "('club', 1)\n",
      "club\n"
     ]
    }
   ],
   "source": [
    "#High and Low GAME\n",
    "\n",
    "import random as rand\n",
    "\n",
    "\n",
    "marks = ['club','diamond','heart','spade']\n",
    "numbers = range(1,14)\n",
    "\n",
    "cards = []\n",
    "\n",
    "for i in marks:\n",
    "    for j in numbers:\n",
    "        cards.append((i,j))\n",
    "        \n",
    "print(cards)\n",
    "print()\n",
    "print(cards[0:13])\n",
    "print(cards[13:26])\n",
    "print(cards[26:39])\n",
    "print(cards[39:52])\n",
    "print()\n",
    "print(cards[0])\n",
    "print(cards[0][0])"
   ]
  },
  {
   "cell_type": "code",
   "execution_count": 2,
   "metadata": {},
   "outputs": [
    {
     "name": "stdout",
     "output_type": "stream",
     "text": [
      "[('club', 10), ('club', 7), ('club', 8), ('club', 12), ('diamond', 7), ('diamond', 11), ('heart', 12), ('heart', 7), ('club', 4), ('club', 3), ('club', 6), ('diamond', 2), ('heart', 11), ('diamond', 1), ('heart', 13), ('heart', 1), ('spade', 9), ('spade', 7), ('heart', 10), ('spade', 1), ('club', 5), ('heart', 8), ('heart', 4), ('club', 2), ('spade', 12), ('spade', 13), ('diamond', 3), ('heart', 5), ('club', 11), ('heart', 6), ('diamond', 6), ('diamond', 10), ('club', 13), ('diamond', 13), ('spade', 10), ('spade', 11), ('heart', 3), ('heart', 2), ('diamond', 12), ('club', 9), ('club', 1), ('spade', 4), ('diamond', 8), ('spade', 2), ('spade', 8), ('diamond', 4), ('spade', 3), ('spade', 5), ('spade', 6), ('diamond', 5), ('diamond', 9), ('heart', 9)]\n"
     ]
    }
   ],
   "source": [
    "rand.shuffle(cards)\n",
    "#shuffle display\n",
    "print(cards)"
   ]
  },
  {
   "cell_type": "code",
   "execution_count": 3,
   "metadata": {},
   "outputs": [
    {
     "name": "stdout",
     "output_type": "stream",
     "text": [
      "HIGH and LOW GAME START!!\n",
      "First card is 7.\n",
      "Predict whether the next card number is High: 1 or Low: 2.\n",
      "1\n",
      "Your choice is 1.\n",
      "\n",
      "The card number is 8.\n",
      "The correct answer is High.\n",
      "\n",
      "Congrats! That is correct!\n"
     ]
    }
   ],
   "source": [
    "open_card = cards[1][1]\n",
    "\n",
    "print('HIGH and LOW GAME START!!')\n",
    "print('First card is {}.'.format(open_card))\n",
    "\n",
    "answer_card = cards[2][1]\n",
    "\n",
    "print('Predict whether the next card number is High: 1 or Low: 2.')\n",
    "answer = input()\n",
    "print('Your choice is ' + answer + '.')\n",
    "\n",
    "print()\n",
    "print('The card number is {}.'.format(answer_card))\n",
    "\n",
    "if(open_card < answer_card):\n",
    "    print('The correct answer is High.')\n",
    "    \n",
    "    if(answer == '1'):\n",
    "        print('')\n",
    "        print('Congrats! That is correct!')\n"
   ]
  }
 ],
 "metadata": {
  "kernelspec": {
   "display_name": "Python 3",
   "language": "python",
   "name": "python3"
  },
  "language_info": {
   "codemirror_mode": {
    "name": "ipython",
    "version": 3
   },
   "file_extension": ".py",
   "mimetype": "text/x-python",
   "name": "python",
   "nbconvert_exporter": "python",
   "pygments_lexer": "ipython3",
   "version": "3.6.5"
  }
 },
 "nbformat": 4,
 "nbformat_minor": 2
}
