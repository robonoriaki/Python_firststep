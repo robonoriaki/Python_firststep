{
 "cells": [
  {
   "cell_type": "code",
   "execution_count": 1,
   "metadata": {},
   "outputs": [
    {
     "name": "stdout",
     "output_type": "stream",
     "text": [
      "(480, 640, 3)\n"
     ]
    }
   ],
   "source": [
    "# Image processing\n",
    "#Create an image\n",
    "\n",
    "\n",
    "import numpy as np\n",
    "import cv2\n",
    "\n",
    "\n",
    "#height of image\n",
    "rows = 480\n",
    "#widht of image\n",
    "cols = 640\n",
    "\n",
    "#画像の縦幅と横幅を配列として決めてフレームを作成する\n",
    "#np.zeros は0で埋められた配列を作るもの\n",
    "#第1引数で配列を、第2引数でデータ型を指定する(np.uint8は8ビットの符号なしの整数)\n",
    "#配列の3は色を意味している\n",
    "image = np.zeros((rows, cols, 3), np.uint8)\n",
    "\n",
    "#shape 関数は配列の大きさを取得するもの\n",
    "print(image.shape)"
   ]
  },
  {
   "cell_type": "code",
   "execution_count": null,
   "metadata": {},
   "outputs": [],
   "source": []
  }
 ],
 "metadata": {
  "kernelspec": {
   "display_name": "Python 3",
   "language": "python",
   "name": "python3"
  },
  "language_info": {
   "codemirror_mode": {
    "name": "ipython",
    "version": 3
   },
   "file_extension": ".py",
   "mimetype": "text/x-python",
   "name": "python",
   "nbconvert_exporter": "python",
   "pygments_lexer": "ipython3",
   "version": "3.6.5"
  }
 },
 "nbformat": 4,
 "nbformat_minor": 2
}
