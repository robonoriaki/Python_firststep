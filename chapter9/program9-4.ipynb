{
 "cells": [
  {
   "cell_type": "code",
   "execution_count": 1,
   "metadata": {},
   "outputs": [
    {
     "name": "stdout",
     "output_type": "stream",
     "text": [
      "(480, 640, 3)\n"
     ]
    }
   ],
   "source": [
    "# Image processing\n",
    "#Create an image\n",
    "\n",
    "\n",
    "import numpy as np\n",
    "import cv2\n",
    "\n",
    "\n",
    "#height of image\n",
    "rows = 480\n",
    "#widht of image\n",
    "cols = 640\n",
    "\n",
    "#画像の縦幅と横幅を配列として決めてフレームを作成する\n",
    "#np.zeros は0で埋められた配列を作るもの\n",
    "#第1引数で配列を、第2引数でデータ型を指定する(np.uint8は8ビットの符号なしの整数)\n",
    "#配列の3は色を意味している、RGBで指定するので3となる\n",
    "#行の数がrows、列の数がcols、の配列の各要素が要素数3のリストとなるような行列を、第1引数で指定している\n",
    "image = np.zeros((rows, cols, 3), np.uint8)\n",
    "\n",
    "#shape 関数は配列の大きさを取得するもの\n",
    "print(image.shape)\n",
    "\n",
    "#image にはまだ色情報が入っていない"
   ]
  },
  {
   "cell_type": "code",
   "execution_count": 2,
   "metadata": {},
   "outputs": [
    {
     "name": "stdout",
     "output_type": "stream",
     "text": [
      "close image window\n"
     ]
    }
   ],
   "source": [
    "#色情報を追加する\n",
    "\n",
    "#画像データには配列で色情報が保存されており、print関数で表示することができる\n",
    "#print(image)\n",
    "\n",
    "#画像内の色を塗る範囲とBGR(RGBの逆)を設定することで、色を追加できる\n",
    "#image[0:240, 0:320] = [0, 128, 0] なら、「0:240」 が縦の範囲、「0:320」 が横の範囲を意味し、\n",
    "#「0, 128, 0」 が青0、緑128、赤0を意味している\n",
    "#また、image[240:480:2, 320:640:2] の2 は画素を飛ばす数を指定している\n",
    "#BGRの数値を大きくすると明るい色になる\n",
    "#0 は黒\n",
    "\n",
    "#全体を青で塗りつぶす\n",
    "image[:,:] = [128, 0, 0]\n",
    "\n",
    "#左上を緑で塗る\n",
    "image[0:240, 0:320] = [0, 128, 0]\n",
    "\n",
    "#右下を緑と赤を混ぜた色で1画素飛ばして塗る、要するに1画素ごとに\n",
    "image[240:480:2, 320:640:2] = [0, 128, 128]\n",
    "\n",
    "#1 は間を開けずに塗るので、指定しないときと同じ結果になる\n",
    "#色は黄\n",
    "image[0:240:1, 320:480:1] = [0, 128, 128]\n",
    "image[0:240:1, 480:640:1] = [0, 252, 252]\n",
    "\n",
    "\n",
    "#Display the image\n",
    "#画像を表示するにはimshow, waitKey, destroyAllWindowsが必要\n",
    "cv2.imshow(\"image\", image)\n",
    "#キーボード入力を無限に待つ、何か入力されたら次に進む\n",
    "cv2.waitKey(0)\n",
    "#Close windows\n",
    "#特定のウィンドウを閉じるには、引数にそのウィンドウの名前を入れる\n",
    "cv2.destroyAllWindows()\n",
    "print('close image window')"
   ]
  }
 ],
 "metadata": {
  "kernelspec": {
   "display_name": "Python 3",
   "language": "python",
   "name": "python3"
  },
  "language_info": {
   "codemirror_mode": {
    "name": "ipython",
    "version": 3
   },
   "file_extension": ".py",
   "mimetype": "text/x-python",
   "name": "python",
   "nbconvert_exporter": "python",
   "pygments_lexer": "ipython3",
   "version": "3.6.5"
  }
 },
 "nbformat": 4,
 "nbformat_minor": 2
}
