{
 "cells": [
  {
   "cell_type": "code",
   "execution_count": 1,
   "metadata": {},
   "outputs": [
    {
     "name": "stdout",
     "output_type": "stream",
     "text": [
      "D:\\Users\\noriakikanai\\Anaconda3\\lib\\site-packages\\numpy\\__init__.py\n"
     ]
    }
   ],
   "source": [
    "#Image processing, load image\n",
    "\n",
    "import numpy as np\n",
    "#Import OpenCV Library\n",
    "import cv2\n",
    "\n",
    "\n",
    "print(np.__file__)\n",
    "\n",
    "#Load image\n",
    "img = cv2.imread('horseshoe-bend.jpg')"
   ]
  },
  {
   "cell_type": "code",
   "execution_count": 2,
   "metadata": {},
   "outputs": [
    {
     "name": "stdout",
     "output_type": "stream",
     "text": [
      "close image window\n"
     ]
    }
   ],
   "source": [
    "#Display the image\n",
    "#画像を表示するにはimshow, waitKey, destroyAllWindowsが必要\n",
    "cv2.imshow('Horse shoe bend', img)\n",
    "#キーボード入力を無限に待つ、何か入力されたら次に進む\n",
    "cv2.waitKey(0)\n",
    "#Close windows\n",
    "#特定のウィンドウを閉じるには、引数にそのウィンドウの名前を入れる\n",
    "cv2.destroyAllWindows()\n",
    "print('close image window')"
   ]
  },
  {
   "cell_type": "code",
   "execution_count": 3,
   "metadata": {},
   "outputs": [
    {
     "name": "stdout",
     "output_type": "stream",
     "text": [
      "close image window\n"
     ]
    }
   ],
   "source": [
    "#Load image file in grayscale\n",
    "img = cv2.imread('horseshoe-bend.jpg', cv2.IMREAD_GRAYSCALE)\n",
    "#or\n",
    "#img = cv2.imread('horseshoe-bend.jpg',0)\n",
    "\n",
    "cv2.imshow('Horse shoe bend (grayscale)', img)\n",
    "cv2.waitKey(0)\n",
    "cv2.destroyAllWindows()\n",
    "print('close image window')"
   ]
  }
 ],
 "metadata": {
  "kernelspec": {
   "display_name": "Python 3",
   "language": "python",
   "name": "python3"
  },
  "language_info": {
   "codemirror_mode": {
    "name": "ipython",
    "version": 3
   },
   "file_extension": ".py",
   "mimetype": "text/x-python",
   "name": "python",
   "nbconvert_exporter": "python",
   "pygments_lexer": "ipython3",
   "version": "3.6.5"
  }
 },
 "nbformat": 4,
 "nbformat_minor": 2
}
