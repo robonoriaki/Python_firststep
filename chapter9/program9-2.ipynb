{
 "cells": [
  {
   "cell_type": "code",
   "execution_count": 1,
   "metadata": {},
   "outputs": [
    {
     "name": "stdout",
     "output_type": "stream",
     "text": [
      "Completed Writing step9_2.csv file.\n"
     ]
    }
   ],
   "source": [
    "#Write csv file\n",
    "import csv\n",
    "\n",
    "\n",
    "f = open('step9_2.csv', 'w')\n",
    "writer = csv.writer(f)\n",
    "header = ['Age', 'Name']\n",
    "\n",
    "data = [[50, 'Matt'], [40, 'Kate'], [30, 'John']]\n",
    "\n",
    "writer.writerow(header)\n",
    "writer.writerows(data)\n",
    "\n",
    "f.close()\n",
    "\n",
    "print('Completed Writing step9_2.csv file.')"
   ]
  },
  {
   "cell_type": "code",
   "execution_count": 2,
   "metadata": {},
   "outputs": [
    {
     "name": "stdout",
     "output_type": "stream",
     "text": [
      "Completed Writing step9_2-2.csv file.\n"
     ]
    }
   ],
   "source": [
    "#Eliminate blank lines under each line in csv file\n",
    "#Avoid line breaks -> newline = ''\n",
    "f = open('step9_2-2.csv', 'w', newline = '')\n",
    "writer = csv.writer(f)\n",
    "header = ['Age', 'Name']\n",
    "\n",
    "data = [[50, 'Matt'], [40, 'Kate'], [30, 'John']]\n",
    "\n",
    "writer.writerow(header)\n",
    "writer.writerows(data)\n",
    "\n",
    "f.close()\n",
    "\n",
    "print('Completed Writing step9_2-2.csv file.')"
   ]
  }
 ],
 "metadata": {
  "kernelspec": {
   "display_name": "Python 3",
   "language": "python",
   "name": "python3"
  },
  "language_info": {
   "codemirror_mode": {
    "name": "ipython",
    "version": 3
   },
   "file_extension": ".py",
   "mimetype": "text/x-python",
   "name": "python",
   "nbconvert_exporter": "python",
   "pygments_lexer": "ipython3",
   "version": "3.6.5"
  }
 },
 "nbformat": 4,
 "nbformat_minor": 2
}
